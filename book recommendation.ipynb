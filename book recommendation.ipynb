{
  "nbformat": 4,
  "nbformat_minor": 0,
  "metadata": {
    "colab": {
      "provenance": [],
      "authorship_tag": "ABX9TyOO8hoEoAZX8/iVzYZmdBbN",
      "include_colab_link": true
    },
    "kernelspec": {
      "name": "python3",
      "display_name": "Python 3"
    },
    "language_info": {
      "name": "python"
    }
  },
  "cells": [
    {
      "cell_type": "markdown",
      "metadata": {
        "id": "view-in-github",
        "colab_type": "text"
      },
      "source": [
        "<a href=\"https://colab.research.google.com/github/VasireddyNandini/predictive-analysis/blob/book_recommend/book%20recommendation.ipynb\" target=\"_parent\"><img src=\"https://colab.research.google.com/assets/colab-badge.svg\" alt=\"Open In Colab\"/></a>"
      ]
    },
    {
      "cell_type": "code",
      "execution_count": 18,
      "metadata": {
        "colab": {
          "base_uri": "https://localhost:8080/"
        },
        "id": "utHijPQIQelP",
        "outputId": "3c38de34-246d-4043-e352-2cc283903d22"
      },
      "outputs": [
        {
          "output_type": "stream",
          "name": "stderr",
          "text": [
            "/tmp/ipython-input-18-773872406.py:4: DtypeWarning: Columns (3) have mixed types. Specify dtype option on import or set low_memory=False.\n",
            "  df = pd.read_csv(\"Books.csv\", encoding='latin-1', on_bad_lines='skip', sep=';')\n"
          ]
        },
        {
          "output_type": "stream",
          "name": "stdout",
          "text": [
            "                                          Book-Title             Book-Author\n",
            "0                                               Prey             Ken Goddard\n",
            "1                                      The Alchemist              Mark Illis\n",
            "2           A Story For Europe (Bloomsbury Classics)               Will Self\n",
            "3                                      The Alchemist              Donna Boyd\n",
            "4                                      The Alchemist              Ben Jonson\n",
            "5   The Alchemist And Other Plays (World'S Classics)              Ben Jonson\n",
            "6                                      The Alchemist  Jorge A. Livraga Rizzi\n",
            "7                              The Spirits Of Nature        Jorge A. Livraga\n",
            "8                                      The Alchemist       Leslie H. Whitten\n",
            "9  The Fangs Of The Morning/The Alchemist/2 Compl...       Leslie H. Whitten\n"
          ]
        }
      ],
      "source": [
        "import pandas as pd\n",
        "from sklearn.feature_extraction.text import TfidfVectorizer\n",
        "from sklearn.neighbors import NearestNeighbors\n",
        "df = pd.read_csv(\"Books.csv\", encoding='latin-1', on_bad_lines='skip', sep=';')\n",
        "df['Book-Title'] = df['Book-Title'].fillna('').str.lower()\n",
        "df['Book-Author'] = df['Book-Author'].fillna('').str.lower()\n",
        "df['Publisher'] = df['Publisher'].fillna('').str.lower()\n",
        "df['Combined'] = df['Book-Title'] + ' ' + df['Book-Author'] + ' ' + df['Publisher']\n",
        "vectorizer = TfidfVectorizer(stop_words='english')\n",
        "tfidf_matrix = vectorizer.fit_transform(df['Combined'])\n",
        "model = NearestNeighbors(n_neighbors=6, metric='cosine', algorithm='brute')\n",
        "model.fit(tfidf_matrix)\n",
        "title_to_index = pd.Series(df.index, index=df['Book-Title']).drop_duplicates()\n",
        "def recommend_books_by_metadata(title, top_n=1):\n",
        "    title = title.lower()\n",
        "    if title not in title_to_index.index:\n",
        "        return f\"Book '{title}' not found in dataset.\"\n",
        "\n",
        "    idx = title_to_index[title]\n",
        "    query_vector = tfidf_matrix[idx]\n",
        "    distances, indices = model.kneighbors(query_vector, n_neighbors=top_n + 1)\n",
        "    recommended_indices = indices.flatten()[1:]\n",
        "    result = df.iloc[recommended_indices][['Book-Title', 'Book-Author']].drop_duplicates()\n",
        "    result['Book-Title'] = result['Book-Title'].str.title().str.slice(0, 50)  # Optionally truncate\n",
        "    result['Book-Author'] = result['Book-Author'].str.title()\n",
        "    return result.reset_index(drop=True)\n",
        "recommendations = recommend_books_by_metadata(\"The Alchemist\", top_n=1)\n",
        "print(recommendations)"
      ]
    }
  ]
}