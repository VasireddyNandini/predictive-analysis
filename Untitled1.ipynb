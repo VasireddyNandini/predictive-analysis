{
  "nbformat": 4,
  "nbformat_minor": 0,
  "metadata": {
    "colab": {
      "provenance": [],
      "authorship_tag": "ABX9TyNf0bLnjGMkAaH2+m0SLUYn",
      "include_colab_link": true
    },
    "kernelspec": {
      "name": "python3",
      "display_name": "Python 3"
    },
    "language_info": {
      "name": "python"
    }
  },
  "cells": [
    {
      "cell_type": "markdown",
      "metadata": {
        "id": "view-in-github",
        "colab_type": "text"
      },
      "source": [
        "<a href=\"https://colab.research.google.com/github/VasireddyNandini/predictive-analysis/blob/newsarticle_recommend/Untitled1.ipynb\" target=\"_parent\"><img src=\"https://colab.research.google.com/assets/colab-badge.svg\" alt=\"Open In Colab\"/></a>"
      ]
    },
    {
      "cell_type": "code",
      "execution_count": 11,
      "metadata": {
        "colab": {
          "base_uri": "https://localhost:8080/"
        },
        "id": "eEUhTqrmY5tv",
        "outputId": "92107027-4b3c-407a-d47f-4491e72cab0a"
      },
      "outputs": [
        {
          "output_type": "stream",
          "name": "stdout",
          "text": [
            "Recommended Articles:\n",
            "                         title    category  similarity\n",
            "1  Champions League Highlights      Sports         0.0\n",
            "3        Budget 2025 Announced    Politics         0.0\n",
            "4      Top Gadgets of the Year  Technology         0.0\n"
          ]
        }
      ],
      "source": [
        "import pandas as pd\n",
        "from sklearn.feature_extraction.text import TfidfVectorizer\n",
        "from sklearn.metrics.pairwise import cosine_similarity\n",
        "import numpy as np\n",
        "\n",
        "# ------------------------\n",
        "# Sample user interaction history\n",
        "# ------------------------\n",
        "user_history = pd.DataFrame([\n",
        "    {'user_id': 1, 'article_id': 'A1', 'interaction': 1},  # Read\n",
        "    {'user_id': 1, 'article_id': 'A3', 'interaction': 1},\n",
        "])\n",
        "\n",
        "# ------------------------\n",
        "# Sample news articles\n",
        "# ------------------------\n",
        "articles = pd.DataFrame([\n",
        "    {'article_id': 'A1', 'title': 'Election 2025 Updates', 'category': 'Politics', 'content': 'Election campaigns are heating up...'},\n",
        "    {'article_id': 'A2', 'title': 'Champions League Highlights', 'category': 'Sports', 'content': 'Real Madrid and Manchester City faced off...'},\n",
        "    {'article_id': 'A3', 'title': 'New AI Breakthrough in Robotics', 'category': 'Technology', 'content': 'A new AI system developed by researchers...'},\n",
        "    {'article_id': 'A4', 'title': 'Budget 2025 Announced', 'category': 'Politics', 'content': 'The finance minister presented the budget...'},\n",
        "    {'article_id': 'A5', 'title': 'Top Gadgets of the Year', 'category': 'Technology', 'content': 'From smartphones to smartwatches...'},\n",
        "])\n",
        "\n",
        "# ------------------------\n",
        "# Step 1: Build user profile from articles they read\n",
        "# ------------------------\n",
        "read_articles = user_history[user_history['interaction'] == 1]['article_id']\n",
        "read_contents = articles[articles['article_id'].isin(read_articles)]['content']\n",
        "\n",
        "# TF-IDF of article contents\n",
        "tfidf = TfidfVectorizer(stop_words='english')\n",
        "tfidf_matrix = tfidf.fit_transform(articles['content'])\n",
        "\n",
        "# User profile vector = mean of vectors of read articles\n",
        "user_indices = articles[articles['article_id'].isin(read_articles)].index\n",
        "user_vector = tfidf_matrix[user_indices].mean(axis=0)\n",
        "\n",
        "# ------------------------\n",
        "# Step 2: Compute similarity of all articles to user profile\n",
        "# ------------------------\n",
        "# Convert user_vector to a dense array\n",
        "cos_sim = cosine_similarity(np.asarray(user_vector).flatten().reshape(1, -1), tfidf_matrix).flatten()\n",
        "\n",
        "# Attach similarity score to articles\n",
        "articles['similarity'] = cos_sim\n",
        "\n",
        "# ------------------------\n",
        "# Step 3: Filter out already read articles\n",
        "# ------------------------\n",
        "recommended_articles = articles[~articles['article_id'].isin(read_articles)]\n",
        "\n",
        "# ------------------------\n",
        "# Step 4: Optionally prioritize articles from user's current interests\n",
        "# ------------------------\n",
        "user_current_interests = ['Technology', 'Politics']  # input current interests\n",
        "# This line had a syntax error and has been removed: recommended_articles['interest_matc_]()_\n",
        "\n",
        "# You might want to add code here to actually use user_current_interests to prioritize articles.\n",
        "# For example, you could boost the similarity score for articles in these categories.\n",
        "\n",
        "# Sort by similarity to recommend most relevant articles\n",
        "recommended_articles = recommended_articles.sort_values(by='similarity', ascending=False)\n",
        "\n",
        "# Display recommendations (optional)\n",
        "print(\"Recommended Articles:\")\n",
        "print(recommended_articles[['title', 'category', 'similarity']])"
      ]
    }
  ]
}