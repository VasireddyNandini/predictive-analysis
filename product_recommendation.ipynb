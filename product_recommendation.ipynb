{
  "nbformat": 4,
  "nbformat_minor": 0,
  "metadata": {
    "colab": {
      "provenance": [],
      "authorship_tag": "ABX9TyNrth/fJtwqxj7DzKaM079S",
      "include_colab_link": true
    },
    "kernelspec": {
      "name": "python3",
      "display_name": "Python 3"
    },
    "language_info": {
      "name": "python"
    }
  },
  "cells": [
    {
      "cell_type": "markdown",
      "metadata": {
        "id": "view-in-github",
        "colab_type": "text"
      },
      "source": [
        "<a href=\"https://colab.research.google.com/github/VasireddyNandini/predictive-analysis/blob/prod_recommend/product_recommendation.ipynb\" target=\"_parent\"><img src=\"https://colab.research.google.com/assets/colab-badge.svg\" alt=\"Open In Colab\"/></a>"
      ]
    },
    {
      "cell_type": "code",
      "source": [
        "from collections import defaultdict\n",
        "from typing import Set\n",
        "import heapq\n",
        "\n",
        "# Sample Data\n",
        "\n",
        "# Users and their shopping history + interests\n",
        "users = {\n",
        "    \"U1\": {\"interests\": {\"electronics\", \"gaming\"}, \"purchases\": {\"P1\", \"P2\", \"P3\"}},\n",
        "    \"U2\": {\"interests\": {\"fitness\", \"electronics\"}, \"purchases\": {\"P2\", \"P4\"}},\n",
        "    \"U3\": {\"interests\": {\"gaming\", \"books\"}, \"purchases\": {\"P3\", \"P5\"}},\n",
        "    \"U4\": {\"interests\": {\"gaming\", \"electronics\"}, \"purchases\": {\"P6\", \"P2\", \"P3\"}},\n",
        "    \"U5\": {\"interests\": {\"fitness\", \"fashion\"}, \"purchases\": {\"P7\", \"P8\"}}\n",
        "}\n",
        "\n",
        "# Product catalog\n",
        "products = {\n",
        "    \"P1\": {\"name\": \"Wireless Mouse\", \"category\": \"electronics\"},\n",
        "    \"P2\": {\"name\": \"Gaming Keyboard\", \"category\": \"gaming\"},\n",
        "    \"P3\": {\"name\": \"VR Headset\", \"category\": \"gaming\"},\n",
        "    \"P4\": {\"name\": \"Fitness Tracker\", \"category\": \"fitness\"},\n",
        "    \"P5\": {\"name\": \"Gaming Book\", \"category\": \"books\"},\n",
        "    \"P6\": {\"name\": \"Console Controller\", \"category\": \"gaming\"},\n",
        "    \"P7\": {\"name\": \"Yoga Mat\", \"category\": \"fitness\"},\n",
        "    \"P8\": {\"name\": \"Sports Shoes\", \"category\": \"fashion\"}\n",
        "}\n",
        "\n",
        "\n",
        "# Utility: Jaccard similarity\n",
        "def jaccard_similarity(set1: Set, set2: Set) -> float:\n",
        "    intersection = len(set1 & set2)\n",
        "    union = len(set1 | set2)\n",
        "    return intersection / union if union else 0\n",
        "\n",
        "\n",
        "# Recommendation function\n",
        "def recommend_products(user_id: str, top_n: int = 5):\n",
        "    if user_id not in users:\n",
        "        print(f\"User ID '{user_id}' not found.\\nAvailable users: {', '.join(users.keys())}\")\n",
        "        return []\n",
        "\n",
        "    target = users[user_id]\n",
        "    target_purchases = target[\"purchases\"]\n",
        "    target_interests = target[\"interests\"]\n",
        "\n",
        "    similarity_scores = []\n",
        "\n",
        "    for other_user, data in users.items():\n",
        "        if other_user == user_id:\n",
        "            continue\n",
        "        sim_score = jaccard_similarity(target_purchases, data[\"purchases\"])\n",
        "        interest_score = jaccard_similarity(target_interests, data[\"interests\"])\n",
        "        total_score = 0.7 * sim_score + 0.3 * interest_score\n",
        "        if total_score > 0:\n",
        "            similarity_scores.append((total_score, other_user))\n",
        "\n",
        "    # Sort users by similarity\n",
        "    similarity_scores.sort(reverse=True)\n",
        "\n",
        "    # Collect recommended products\n",
        "    recommended = defaultdict(float)  # product -> score\n",
        "\n",
        "    for score, similar_user in similarity_scores:\n",
        "        for product in users[similar_user][\"purchases\"]:\n",
        "            if product not in target_purchases:\n",
        "                recommended[product] += score\n",
        "\n",
        "    # Rank and return top N products\n",
        "    top_products = heapq.nlargest(top_n, recommended.items(), key=lambda x: x[1])\n",
        "\n",
        "    return [f\"{products[pid]['name']} (Score: {round(score, 2)})\" for pid, score in top_products]\n",
        "\n",
        "\n",
        "# 🧑‍💻 Interactive Input\n",
        "if __name__ == \"__main__\":\n",
        "    print(\"📦 Product Recommendation System\")\n",
        "    print(f\"Available users: {', '.join(users.keys())}\")\n",
        "    user_input = input(\"Enter a user ID to get recommendations (e.g., U1): \").strip()\n",
        "\n",
        "    result = recommend_products(user_input)\n",
        "\n",
        "    if result:\n",
        "        print(f\"\\n🎯 Top Product Recommendations for {user_input}:\\n\")\n",
        "        for idx, item in enumerate(result, 1):\n",
        "            print(f\"{idx}. {item}\")\n"
      ],
      "metadata": {
        "colab": {
          "base_uri": "https://localhost:8080/"
        },
        "id": "7wutXqrGP1ue",
        "outputId": "861da4f6-795b-46b4-8218-7c43a0bd7360"
      },
      "execution_count": 2,
      "outputs": [
        {
          "output_type": "stream",
          "name": "stdout",
          "text": [
            "📦 Product Recommendation System\n",
            "Available users: U1, U2, U3, U4, U5\n",
            "Enter a user ID to get recommendations (e.g., U1): U2\n",
            "\n",
            "🎯 Top Product Recommendations for U2:\n",
            "\n",
            "1. VR Headset (Score: 0.55)\n",
            "2. Console Controller (Score: 0.27)\n",
            "3. Wireless Mouse (Score: 0.27)\n",
            "4. Yoga Mat (Score: 0.1)\n",
            "5. Sports Shoes (Score: 0.1)\n"
          ]
        }
      ]
    }
  ]
}