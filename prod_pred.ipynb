{
  "nbformat": 4,
  "nbformat_minor": 0,
  "metadata": {
    "colab": {
      "provenance": [],
      "authorship_tag": "ABX9TyMsH1ClatQzDEyNkorEEFLK",
      "include_colab_link": true
    },
    "kernelspec": {
      "name": "python3",
      "display_name": "Python 3"
    },
    "language_info": {
      "name": "python"
    }
  },
  "cells": [
    {
      "cell_type": "markdown",
      "metadata": {
        "id": "view-in-github",
        "colab_type": "text"
      },
      "source": [
        "<a href=\"https://colab.research.google.com/github/VasireddyNandini/predictive-analysis/blob/prod_pred/prod_pred.ipynb\" target=\"_parent\"><img src=\"https://colab.research.google.com/assets/colab-badge.svg\" alt=\"Open In Colab\"/></a>"
      ]
    },
    {
      "cell_type": "code",
      "execution_count": 14,
      "metadata": {
        "colab": {
          "base_uri": "https://localhost:8080/"
        },
        "id": "fUrD8byVQ0Dd",
        "outputId": "23901850-5598-4f9d-f974-0936ab0423b5"
      },
      "outputs": [
        {
          "output_type": "stream",
          "name": "stdout",
          "text": [
            "Recommended products for user U2: ['P4', 'P1', 'P5']\n"
          ]
        }
      ],
      "source": [
        "# Step 1: Install required libraries (if needed)\n",
        "# pip install pandas scikit-learn\n",
        "\n",
        "import pandas as pd\n",
        "from sklearn.metrics.pairwise import cosine_similarity\n",
        "\n",
        "# Step 2: Sample purchase history data\n",
        "data = {\n",
        "    'user_id': ['U1', 'U1', 'U2', 'U2', 'U3', 'U3', 'U4', 'U4', 'U5', 'U5'],\n",
        "    'product_id': ['P1', 'P2', 'P2', 'P3', 'P1', 'P4', 'P3', 'P4', 'P1', 'P5'],\n",
        "    'purchase': [1]*10  # Binary purchase history (1 = bought)\n",
        "}\n",
        "\n",
        "df = pd.DataFrame(data)\n",
        "\n",
        "# Step 3: Create user-product matrix\n",
        "user_product_matrix = df.pivot_table(index='user_id', columns='product_id', values='purchase', fill_value=0)\n",
        "\n",
        "# Step 4: Calculate item-to-item similarity\n",
        "product_similarity = cosine_similarity(user_product_matrix.T)\n",
        "product_similarity_df = pd.DataFrame(product_similarity, index=user_product_matrix.columns, columns=user_product_matrix.columns)\n",
        "\n",
        "# Step 5: Recommend products based on last purchase\n",
        "def recommend_products(user_id, top_n=3):\n",
        "    user_row = user_product_matrix.loc[user_id]\n",
        "    purchased_products = user_row[user_row > 0].index.tolist()\n",
        "\n",
        "    scores = {}\n",
        "    for product in purchased_products:\n",
        "        similar_products = product_similarity_df[product].drop(index=product)\n",
        "        for similar_product, score in similar_products.items():\n",
        "            if user_row[similar_product] == 0:  # Not already purchased\n",
        "                scores[similar_product] = scores.get(similar_product, 0) + score\n",
        "\n",
        "    sorted_scores = sorted(scores.items(), key=lambda x: x[1], reverse=True)\n",
        "    recommended = [product for product, score in sorted_scores][:top_n]\n",
        "\n",
        "    return recommended\n",
        "\n",
        "# Step 6: Predict for user U2\n",
        "user = 'U2'\n",
        "recommendations = recommend_products(user)\n",
        "\n",
        "print(f\"Recommended products for user {user}: {recommendations}\")\n"
      ]
    }
  ]
}