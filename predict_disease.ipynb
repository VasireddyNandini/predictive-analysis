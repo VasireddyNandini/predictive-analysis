{
  "nbformat": 4,
  "nbformat_minor": 0,
  "metadata": {
    "colab": {
      "provenance": [],
      "authorship_tag": "ABX9TyNVvuhTCNlqyWniCoGOPREg",
      "include_colab_link": true
    },
    "kernelspec": {
      "name": "python3",
      "display_name": "Python 3"
    },
    "language_info": {
      "name": "python"
    }
  },
  "cells": [
    {
      "cell_type": "markdown",
      "metadata": {
        "id": "view-in-github",
        "colab_type": "text"
      },
      "source": [
        "<a href=\"https://colab.research.google.com/github/VasireddyNandini/predictive-analysis/blob/predict_patient_develop_disease/predict_disease.ipynb\" target=\"_parent\"><img src=\"https://colab.research.google.com/assets/colab-badge.svg\" alt=\"Open In Colab\"/></a>"
      ]
    },
    {
      "cell_type": "code",
      "execution_count": 13,
      "metadata": {
        "colab": {
          "base_uri": "https://localhost:8080/"
        },
        "id": "eEUhTqrmY5tv",
        "outputId": "8f74552c-b7a4-4912-aa25-7ffa68faebd5"
      },
      "outputs": [
        {
          "output_type": "stream",
          "name": "stdout",
          "text": [
            "✅ Loaded data shape: (8, 6)\n",
            "📊 Columns: ['age', 'blood_pressure', 'cholesterol', 'glucose', 'heart_rate', 'disease']\n",
            "✅ Accuracy: 1.0\n",
            "📄 Report:\n",
            "               precision    recall  f1-score   support\n",
            "\n",
            "           1       1.00      1.00      1.00         2\n",
            "\n",
            "    accuracy                           1.00         2\n",
            "   macro avg       1.00      1.00      1.00         2\n",
            "weighted avg       1.00      1.00      1.00         2\n",
            "\n",
            "\n",
            "🧠 Prediction for New Patient: Likely to Develop Disease\n"
          ]
        }
      ],
      "source": [
        "import pandas as pd\n",
        "from sklearn.model_selection import train_test_split\n",
        "from sklearn.ensemble import RandomForestClassifier\n",
        "from sklearn.metrics import accuracy_score, classification_report\n",
        "from sklearn.preprocessing import StandardScaler\n",
        "\n",
        "# -------------------------\n",
        "# STEP 1: Load dataset\n",
        "# -------------------------\n",
        "df = pd.read_csv('patients.csv')  # 🔁 Replace with your file path\n",
        "\n",
        "print(\"✅ Loaded data shape:\", df.shape)\n",
        "print(\"📊 Columns:\", df.columns.tolist())\n",
        "\n",
        "# -------------------------\n",
        "# STEP 2: Preprocessing\n",
        "# -------------------------\n",
        "# Drop rows with missing values (or use imputation)\n",
        "df = df.dropna()\n",
        "\n",
        "# Separate features and target\n",
        "X = df.drop('disease', axis=1)  # clinical parameters\n",
        "y = df['disease']               # target: 0 or 1\n",
        "\n",
        "# Scale features (optional but recommended)\n",
        "scaler = StandardScaler()\n",
        "X_scaled = scaler.fit_transform(X)\n",
        "\n",
        "# -------------------------\n",
        "# STEP 3: Train/test split\n",
        "# -------------------------\n",
        "X_train, X_test, y_train, y_test = train_test_split(\n",
        "    X_scaled, y, test_size=0.2, random_state=42\n",
        ")\n",
        "\n",
        "# -------------------------\n",
        "# STEP 4: Train model\n",
        "# -------------------------\n",
        "model = RandomForestClassifier(n_estimators=100, random_state=42)\n",
        "model.fit(X_train, y_train)\n",
        "\n",
        "# -------------------------\n",
        "# STEP 5: Evaluate\n",
        "# -------------------------\n",
        "y_pred = model.predict(X_test)\n",
        "\n",
        "print(\"✅ Accuracy:\", accuracy_score(y_test, y_pred))\n",
        "print(\"📄 Report:\\n\", classification_report(y_test, y_pred))\n",
        "\n",
        "# -------------------------\n",
        "# STEP 6: Predict on new patient data\n",
        "# -------------------------\n",
        "def predict_disease(new_patient_dict):\n",
        "    input_df = pd.DataFrame([new_patient_dict])\n",
        "    input_scaled = scaler.transform(input_df)\n",
        "    prediction = model.predict(input_scaled)[0]\n",
        "    return \"Likely to Develop Disease\" if prediction == 1 else \"Unlikely to Develop Disease\"\n",
        "\n",
        "# Example usage:\n",
        "new_patient = {\n",
        "    'age': 55,\n",
        "    'blood_pressure': 140,\n",
        "    'cholesterol': 220,\n",
        "    'glucose': 110,\n",
        "    'heart_rate': 80,\n",
        "    # ➕ include all features from the CSV except 'disease'\n",
        "}\n",
        "\n",
        "result = predict_disease(new_patient)\n",
        "print(\"\\n🧠 Prediction for New Patient:\", result)\n"
      ]
    }
  ]
}