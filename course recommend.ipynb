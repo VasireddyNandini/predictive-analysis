{
  "nbformat": 4,
  "nbformat_minor": 0,
  "metadata": {
    "colab": {
      "provenance": [],
      "authorship_tag": "ABX9TyPGQTIoYgR+Teg4EZeNd8+R",
      "include_colab_link": true
    },
    "kernelspec": {
      "name": "python3",
      "display_name": "Python 3"
    },
    "language_info": {
      "name": "python"
    }
  },
  "cells": [
    {
      "cell_type": "markdown",
      "metadata": {
        "id": "view-in-github",
        "colab_type": "text"
      },
      "source": [
        "<a href=\"https://colab.research.google.com/github/VasireddyNandini/predictive-analysis/blob/course_recommend/course%20recommend.ipynb\" target=\"_parent\"><img src=\"https://colab.research.google.com/assets/colab-badge.svg\" alt=\"Open In Colab\"/></a>"
      ]
    },
    {
      "cell_type": "code",
      "execution_count": 4,
      "metadata": {
        "colab": {
          "base_uri": "https://localhost:8080/"
        },
        "id": "eEUhTqrmY5tv",
        "outputId": "0723f98a-e4cc-44e1-b103-2bd304a67210"
      },
      "outputs": [
        {
          "output_type": "stream",
          "name": "stdout",
          "text": [
            "\n",
            "🎓 Recommended Courses for the Student:\n",
            "✅ ML for Engineers\n",
            "✅ Deep Learning\n"
          ]
        }
      ],
      "source": [
        "import pandas as pd\n",
        "from sklearn.metrics.pairwise import cosine_similarity\n",
        "from sklearn.feature_extraction.text import TfidfVectorizer\n",
        "\n",
        "# ---------------------------\n",
        "# STEP 1: Existing student & course data\n",
        "# ---------------------------\n",
        "students = pd.DataFrame([\n",
        "    {'student_id': 1, 'interests': 'AI,ML,Python', 'focus': 'research', 'performance': 8.5, 'courses_taken': ['C1']},\n",
        "    {'student_id': 2, 'interests': 'Systems,Networking,C', 'focus': 'industry', 'performance': 7.0, 'courses_taken': ['C2']},\n",
        "    {'student_id': 3, 'interests': 'AI,Deep Learning,Maths', 'focus': 'research', 'performance': 9.0, 'courses_taken': ['C1', 'C3']},\n",
        "])\n",
        "\n",
        "courses = pd.DataFrame([\n",
        "    {'course_id': 'C1', 'title': 'Intro to AI', 'tags': 'AI,Python', 'track': 'research'},\n",
        "    {'course_id': 'C2', 'title': 'Computer Networks', 'tags': 'Networking,Systems', 'track': 'industry'},\n",
        "    {'course_id': 'C3', 'title': 'Deep Learning', 'tags': 'AI,Deep Learning', 'track': 'research'},\n",
        "    {'course_id': 'C4', 'title': 'Operating Systems', 'tags': 'Systems,C', 'track': 'industry'},\n",
        "    {'course_id': 'C5', 'title': 'ML for Engineers', 'tags': 'ML,Python,Maths', 'track': 'research'},\n",
        "])\n",
        "\n",
        "# ---------------------------\n",
        "# STEP 2: Input student (new)\n",
        "# ---------------------------\n",
        "input_student = {\n",
        "    'student_id': 99,\n",
        "    'interests': 'AI,ML,Maths',\n",
        "    'focus': 'research',\n",
        "    'performance': 8.8,\n",
        "    'courses_taken': ['C1']\n",
        "}\n",
        "\n",
        "# ---------------------------\n",
        "# STEP 3: Add input to existing data temporarily\n",
        "# ---------------------------\n",
        "# Use pd.concat instead of append\n",
        "temp_students = pd.concat([students, pd.DataFrame([input_student])], ignore_index=True)\n",
        "\n",
        "\n",
        "# TF-IDF vector for interests\n",
        "vectorizer = TfidfVectorizer()\n",
        "interest_matrix = vectorizer.fit_transform(temp_students['interests'])\n",
        "\n",
        "# Compute similarity matrix\n",
        "similarities = cosine_similarity(interest_matrix)\n",
        "\n",
        "# Get similarity values of input student to others\n",
        "input_index = temp_students[temp_students['student_id'] == 99].index[0]\n",
        "temp_students['similarity'] = similarities[input_index]\n",
        "\n",
        "# Filter top similar students (not the input itself)\n",
        "similar_students = temp_students[(temp_students['student_id'] != 99) & (temp_students['similarity'] > 0.3)]\n",
        "\n",
        "# ---------------------------\n",
        "# STEP 4: Recommend courses from similar students\n",
        "# ---------------------------\n",
        "recommended_courses = []\n",
        "\n",
        "for _, sim_student in similar_students.iterrows():\n",
        "    for course_id in sim_student['courses_taken']:\n",
        "        course_info = courses[courses['course_id'] == course_id].iloc[0]\n",
        "        if course_info['track'] == input_student['focus']:\n",
        "            if course_id not in input_student['courses_taken']:\n",
        "                recommended_courses.append((course_info['title'], course_info['tags']))\n",
        "\n",
        "# Remove duplicates\n",
        "recommended_titles = list(set([title for title, tags in recommended_courses]))\n",
        "\n",
        "# ---------------------------\n",
        "# STEP 5: Content filter for interests (optional boost)\n",
        "# ---------------------------\n",
        "for _, course in courses.iterrows():\n",
        "    if input_student['focus'] == course['track'] and course['course_id'] not in input_student['courses_taken']:\n",
        "        if any(interest.strip() in course['tags'] for interest in input_student['interests'].split(',')):\n",
        "            recommended_titles.append(course['title'])\n",
        "\n",
        "# Final deduped recommendations\n",
        "final_recommendations = list(set(recommended_titles))\n",
        "\n",
        "print(\"\\n🎓 Recommended Courses for the Student:\")\n",
        "for course in final_recommendations:\n",
        "    print(\"✅\", course)"
      ]
    }
  ]
}