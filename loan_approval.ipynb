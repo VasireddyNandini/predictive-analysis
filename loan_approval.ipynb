{
  "nbformat": 4,
  "nbformat_minor": 0,
  "metadata": {
    "colab": {
      "provenance": [],
      "authorship_tag": "ABX9TyOA5EIB7eQP+dPkRa5lWzss",
      "include_colab_link": true
    },
    "kernelspec": {
      "name": "python3",
      "display_name": "Python 3"
    },
    "language_info": {
      "name": "python"
    }
  },
  "cells": [
    {
      "cell_type": "markdown",
      "metadata": {
        "id": "view-in-github",
        "colab_type": "text"
      },
      "source": [
        "<a href=\"https://colab.research.google.com/github/VasireddyNandini/predictive-analysis/blob/loan_approval/loan_approval.ipynb\" target=\"_parent\"><img src=\"https://colab.research.google.com/assets/colab-badge.svg\" alt=\"Open In Colab\"/></a>"
      ]
    },
    {
      "cell_type": "code",
      "execution_count": 1,
      "metadata": {
        "colab": {
          "base_uri": "https://localhost:8080/"
        },
        "id": "k63rjr2_EiOl",
        "outputId": "f51532ba-d0ea-43d6-b21f-5753d727794c"
      },
      "outputs": [
        {
          "output_type": "stream",
          "name": "stdout",
          "text": [
            "Accuracy: 1.0\n",
            "Classification Report:\n",
            "               precision    recall  f1-score   support\n",
            "\n",
            "           0       1.00      1.00      1.00         3\n",
            "\n",
            "    accuracy                           1.00         3\n",
            "   macro avg       1.00      1.00      1.00         3\n",
            "weighted avg       1.00      1.00      1.00         3\n",
            "\n",
            "Loan approval prediction for new applicant: Approved\n"
          ]
        },
        {
          "output_type": "stream",
          "name": "stderr",
          "text": [
            "/usr/local/lib/python3.11/dist-packages/sklearn/utils/validation.py:2739: UserWarning: X does not have valid feature names, but LogisticRegression was fitted with feature names\n",
            "  warnings.warn(\n"
          ]
        }
      ],
      "source": [
        "import pandas as pd\n",
        "import numpy as np\n",
        "from sklearn.model_selection import train_test_split\n",
        "from sklearn.linear_model import LogisticRegression\n",
        "from sklearn.metrics import accuracy_score, classification_report\n",
        "\n",
        "# Create a simple synthetic dataset\n",
        "data = {\n",
        "    'Credit_Score': [700, 620, 680, 710, 630, 580, 590, 720, 650, 600],\n",
        "    'Income': [50000, 42000, 48000, 55000, 40000, 38000, 39000, 57000, 43000, 41000],\n",
        "    'Loan_Amount': [20000, 18000, 22000, 21000, 15000, 12000, 13000, 25000, 17000, 16000],\n",
        "    'Approved': [1, 0, 1, 1, 0, 0, 0, 1, 0, 0]  # 1 = Approved, 0 = Not approved\n",
        "}\n",
        "\n",
        "df = pd.DataFrame(data)\n",
        "\n",
        "# Features and target\n",
        "X = df[['Credit_Score', 'Income', 'Loan_Amount']]\n",
        "y = df['Approved']\n",
        "\n",
        "# Train-test split\n",
        "X_train, X_test, y_train, y_test = train_test_split(X, y, test_size=0.3, random_state=42)\n",
        "\n",
        "# Model training\n",
        "model = LogisticRegression()\n",
        "model.fit(X_train, y_train)\n",
        "\n",
        "# Prediction\n",
        "y_pred = model.predict(X_test)\n",
        "\n",
        "# Evaluation\n",
        "print(\"Accuracy:\", accuracy_score(y_test, y_pred))\n",
        "print(\"Classification Report:\\n\", classification_report(y_test, y_pred))\n",
        "\n",
        "# Example prediction for a new applicant\n",
        "new_applicant = np.array([[690, 46000, 21000]])\n",
        "approval = model.predict(new_applicant)\n",
        "print(\"Loan approval prediction for new applicant:\", \"Approved\" if approval[0] == 1 else \"Not Approved\")\n"
      ]
    }
  ]
}