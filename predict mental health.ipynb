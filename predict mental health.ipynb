{
  "nbformat": 4,
  "nbformat_minor": 0,
  "metadata": {
    "colab": {
      "provenance": [],
      "authorship_tag": "ABX9TyPBiap2btaXlrpQOpaNguKb",
      "include_colab_link": true
    },
    "kernelspec": {
      "name": "python3",
      "display_name": "Python 3"
    },
    "language_info": {
      "name": "python"
    }
  },
  "cells": [
    {
      "cell_type": "markdown",
      "metadata": {
        "id": "view-in-github",
        "colab_type": "text"
      },
      "source": [
        "<a href=\"https://colab.research.google.com/github/VasireddyNandini/predictive-analysis/blob/predict_mentalhealth/predict%20mental%20health.ipynb\" target=\"_parent\"><img src=\"https://colab.research.google.com/assets/colab-badge.svg\" alt=\"Open In Colab\"/></a>"
      ]
    },
    {
      "cell_type": "code",
      "execution_count": 12,
      "metadata": {
        "colab": {
          "base_uri": "https://localhost:8080/"
        },
        "id": "eEUhTqrmY5tv",
        "outputId": "8b2c41d0-e981-4498-94c9-dcef6cae58f4"
      },
      "outputs": [
        {
          "output_type": "stream",
          "name": "stdout",
          "text": [
            "🧠 Predicted Mental Health Risk Level: Low\n",
            "\n",
            "📊 Classification Report:\n",
            "               precision    recall  f1-score   support\n",
            "\n",
            "         Low       1.00      1.00      1.00         7\n",
            "    Moderate       1.00      1.00      1.00        24\n",
            "        High       1.00      1.00      1.00        29\n",
            "\n",
            "    accuracy                           1.00        60\n",
            "   macro avg       1.00      1.00      1.00        60\n",
            "weighted avg       1.00      1.00      1.00        60\n",
            "\n"
          ]
        }
      ],
      "source": [
        "import pandas as pd\n",
        "import numpy as np\n",
        "from sklearn.ensemble import RandomForestClassifier\n",
        "from sklearn.model_selection import train_test_split\n",
        "from sklearn.preprocessing import LabelEncoder\n",
        "from sklearn.metrics import classification_report\n",
        "\n",
        "# -------------------------\n",
        "# STEP 1: Simulate dataset\n",
        "# -------------------------\n",
        "np.random.seed(42)\n",
        "data = pd.DataFrame({\n",
        "    'stress_level': np.random.randint(1, 11, 300),\n",
        "    'sleep_hours': np.random.uniform(4, 9, 300),\n",
        "    'exercise_freq': np.random.randint(0, 7, 300),\n",
        "    'screen_time': np.random.uniform(2, 10, 300),\n",
        "    'healthy_diet': np.random.randint(0, 2, 300),\n",
        "    'social_interaction': np.random.randint(1, 11, 300),\n",
        "})\n",
        "\n",
        "# Simulate target with logic (simplified)\n",
        "def classify(row):\n",
        "    if row['stress_level'] > 7 and row['sleep_hours'] < 6:\n",
        "        return 'High'\n",
        "    elif row['stress_level'] > 4:\n",
        "        return 'Moderate'\n",
        "    else:\n",
        "        return 'Low'\n",
        "\n",
        "data['mental_health_risk'] = data.apply(classify, axis=1)\n",
        "\n",
        "# -------------------------\n",
        "# STEP 2: Prepare model\n",
        "# -------------------------\n",
        "X = data.drop('mental_health_risk', axis=1)\n",
        "y = LabelEncoder().fit_transform(data['mental_health_risk'])\n",
        "\n",
        "X_train, X_test, y_train, y_test = train_test_split(X, y, test_size=0.2)\n",
        "\n",
        "model = RandomForestClassifier()\n",
        "model.fit(X_train, y_train)\n",
        "\n",
        "# -------------------------\n",
        "# STEP 3: Predict on new input\n",
        "# -------------------------\n",
        "def predict_risk(stress, sleep, exercise, screen, diet, social):\n",
        "    user_input = pd.DataFrame([{\n",
        "        'stress_level': stress,\n",
        "        'sleep_hours': sleep,\n",
        "        'exercise_freq': exercise,\n",
        "        'screen_time': screen,\n",
        "        'healthy_diet': diet,\n",
        "        'social_interaction': social,\n",
        "    }])\n",
        "    pred = model.predict(user_input)[0]\n",
        "    risk_label = ['Low', 'Moderate', 'High'][pred]\n",
        "    return risk_label\n",
        "\n",
        "# Example input\n",
        "risk = predict_risk(\n",
        "    stress=8,\n",
        "    sleep=5.5,\n",
        "    exercise=1,\n",
        "    screen=8,\n",
        "    diet=0,\n",
        "    social=3\n",
        ")\n",
        "print(\"🧠 Predicted Mental Health Risk Level:\", risk)\n",
        "\n",
        "# -------------------------\n",
        "# STEP 4: Evaluate model (optional)\n",
        "# -------------------------\n",
        "y_pred = model.predict(X_test)\n",
        "print(\"\\n📊 Classification Report:\\n\", classification_report(y_test, y_pred, target_names=['Low', 'Moderate', 'High']))\n"
      ]
    }
  ]
}